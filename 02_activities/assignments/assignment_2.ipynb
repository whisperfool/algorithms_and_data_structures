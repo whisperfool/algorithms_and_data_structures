{
 "cells": [
  {
   "cell_type": "markdown",
   "metadata": {},
   "source": [
    "# Practice Interview\n",
    "\n",
    "## Objective\n",
    "\n",
    "_*The partner assignment aims to provide participants with the opportunity to practice coding in an interview context. You will analyze your partner's Assignment 1. Moreover, code reviews are common practice in a software development team. This assignment should give you a taste of the code review process.*_\n",
    "\n",
    "## Group Size\n",
    "\n",
    "Each group should have 2 people. You will be assigned a partner\n",
    "\n",
    "## Part 1:\n",
    "\n",
    "You and your partner must share each other's Assignment 1 submission."
   ]
  },
  {
   "cell_type": "markdown",
   "metadata": {},
   "source": [
    "\n",
    "## Part 2:\n",
    "\n",
    "Create a Jupyter Notebook, create 6 of the following headings, and complete the following for your partner's assignment 1:\n",
    "\n",
    "-   Paraphrase the problem in your own words.\n"
   ]
  },
  {
   "cell_type": "code",
   "execution_count": 1,
   "metadata": {},
   "outputs": [],
   "source": [
    "# Your answer here\n",
    "# Given a list of integers in the range [0, n], find and return a list of integers that are missing from the range. \n",
    "# If no numbers are missing, return -1. The list may contain duplicate integers."
   ]
  },
  {
   "cell_type": "markdown",
   "metadata": {},
   "source": [
    "\n",
    "-   Create 1 new example that demonstrates you understand the problem. Trace/walkthrough 1 example that your partner made and explain it.\n"
   ]
  },
  {
   "cell_type": "code",
   "execution_count": 2,
   "metadata": {},
   "outputs": [],
   "source": [
    "# Your answer here\n",
    "#e.g 1\n",
    "# Input 1st = [ 3, 0, 1, 4]\n",
    "# Output: [2]\n",
    "\n",
    "# #e.g 2\n",
    "# Input 1st = [5, 2, 2, 2, 0]\n",
    "# Output: [3, 4]"
   ]
  },
  {
   "cell_type": "markdown",
   "metadata": {},
   "source": [
    "\n",
    "-   Copy the solution your partner wrote. \n"
   ]
  },
  {
   "cell_type": "code",
   "execution_count": 2,
   "metadata": {},
   "outputs": [
    {
     "name": "stdout",
     "output_type": "stream",
     "text": [
      "[1, 3, 4]\n"
     ]
    }
   ],
   "source": [
    "# Your answer here\n",
    "from typing import List\n",
    "\n",
    "def missing_num(nums: List) -> int:\n",
    "    \n",
    "    n = max(nums)\n",
    "    num_set = set(nums) #\n",
    "    \n",
    "    missing_numbers = []\n",
    "    for i in range(n):\n",
    "        if i not in num_set:\n",
    "            missing_numbers.append(i)\n",
    "    \n",
    "    if not missing_numbers:\n",
    "        return [-1]  # Return -1 if there are no missing numbers\n",
    "    else:\n",
    "        return missing_numbers\n",
    "\n",
    "    \n",
    "\n",
    "# Example usage:\n",
    "nums = [0, 2, 5]\n",
    "print(missing_num(nums))  # Output: [1, 3, 4]"
   ]
  },
  {
   "cell_type": "markdown",
   "metadata": {},
   "source": [
    "\n",
    "-   Explain why their solution works in your own words.\n"
   ]
  },
  {
   "cell_type": "code",
   "execution_count": null,
   "metadata": {},
   "outputs": [],
   "source": [
    "# Your answer here\n",
    "\n",
    "# Their solution works due to :\n",
    "\n",
    "# 1) n = max(nums) This function starts by finding the maximum number in the input list nums\n",
    "# 2) num_set = set(nums) converts the list nums into a set num_set. \n",
    "# This helps in checking the existence of a number in constant time 𝑂(1)\n",
    "\n",
    "# 3) missing_numbers = []\n",
    "# for i in range(n):\n",
    "#     if i not in num_set:\n",
    "#         missing_numbers.append(i)\n",
    "\n",
    "# initializes an empty list missing_numbers.\n",
    "# It iterates from 0 to n-1 and checks if each number is in num_set.\n",
    "# If a number is not present in num_set, it is considered missing and added to missing_numbers.\n",
    "\n",
    "# 4)\n",
    "# if not missing_numbers:\n",
    "#     return [-1]\n",
    "# else:\n",
    "#     return missing_numbers\n",
    "\n",
    "# After the loop, it checks if the missing_numbers list is empty. If it is, it returns [-1], \n",
    "# indicating there are no missing numbers. Otherwise, it returns the list of missing numbers.\n",
    "\n"
   ]
  },
  {
   "cell_type": "markdown",
   "metadata": {},
   "source": [
    "\n",
    "-   Explain the problem’s time and space complexity in your own words.\n"
   ]
  },
  {
   "cell_type": "code",
   "execution_count": 4,
   "metadata": {},
   "outputs": [],
   "source": [
    "# Your answer here\n",
    "# Time complexity\n",
    "\n",
    "# They found the maximum number in the list O(n), where n is the length of the list \"nums\"\n",
    "\n",
    "# Created a set from the list and iterated fro the 0 to n -1 and checking if each number in the set O(n)\n",
    "# for the iteration of O(1) for each membership check, resulting in O(n) overall.\n",
    "# Space complexity:\n",
    "\n",
    "# the space used by the set 'num_set' : O(n)\n",
    "# The space used by the list missing_numbers: O(n)\n"
   ]
  },
  {
   "cell_type": "markdown",
   "metadata": {},
   "source": [
    "\n",
    "-   Critique your partner's solution, including explanation, and if there is anything that should be adjusted.\n"
   ]
  },
  {
   "cell_type": "code",
   "execution_count": null,
   "metadata": {},
   "outputs": [],
   "source": [
    "# Your answer here\n",
    "# As their code gave the required output,\n",
    "\n",
    "# The function is supposed to return a single missing number or a list of all missing numbers, but it incorrectly returns a list with [-1] if no numbers are missing. \n",
    "# This is inconsistent with the expected output in the problem description.\n",
    "\n",
    "# This function only iterates from 0 to n-1. If the input list contains the number n and it's the only missing number, it won't be detected.\n",
    "\n",
    "# I suggest changing the function to return a list of missing numbers or [-1] if no numbers are missing.\n",
    "and iterate from 0 to 'n' instead of 'n-1'"
   ]
  },
  {
   "cell_type": "code",
   "execution_count": 6,
   "metadata": {},
   "outputs": [
    {
     "name": "stdout",
     "output_type": "stream",
     "text": [
      "[1, 3, 4]\n"
     ]
    }
   ],
   "source": [
    "from typing import List\n",
    "\n",
    "def missing_num(nums: List[int]) -> List[int]:\n",
    "    if not nums:  # Check for empty input list\n",
    "        return [-1]\n",
    "    \n",
    "    n = max(nums)\n",
    "    num_set = set(nums)\n",
    "    \n",
    "    missing_numbers = []\n",
    "    for i in range(n + 1):  # Adjusted range to include 'n'\n",
    "        if i not in num_set:\n",
    "            missing_numbers.append(i)\n",
    "    \n",
    "    if not missing_numbers:\n",
    "        return [-1]\n",
    "    else:\n",
    "        return missing_numbers\n",
    "\n",
    "# Example usage:\n",
    "nums = [0, 2, 5]\n",
    "print(missing_num(nums))  # Output: [1, 3, 4]\n"
   ]
  },
  {
   "cell_type": "markdown",
   "metadata": {},
   "source": [
    "\n",
    "## Part 3:\n",
    "\n",
    "Please write a 200 word reflection documenting your process from assignment 1, and your presentation and review experience with your partner at the bottom of the Jupyter Notebook under a new heading \"Reflection.\" Again, export this Notebook as pdf.\n"
   ]
  },
  {
   "cell_type": "markdown",
   "metadata": {},
   "source": [
    "### Reflection"
   ]
  },
  {
   "cell_type": "code",
   "execution_count": 7,
   "metadata": {},
   "outputs": [],
   "source": [
    "# Your answer here\n",
    "\n",
    "# Reflecting on the process of Assignment 1, I approached the task with a clear understanding of the problem.\n",
    "# identifying missing numbers in a given list within the range [0, n].\n",
    "# My solution involved leveraging set operations to efficiently determine the missing numbers.\n",
    "# I first generated a complete set of numbers from 0 to n+1, then created a set from the input list.\n",
    "# By subtracting the input set from the complete set, I obtained the missing numbers.\n",
    "# This approach ensured simplicity and clarity, resulting in a time complexity of O(n) and space complexity of O(n).\n",
    "\n",
    "# When reviewing my partner's code, I noted several strengths and areas for improvement. \n",
    "# Their code accurately identified missing numbers but had a few inefficiencies. \n",
    "# Specifically, using max(nums) to determine the range and iterating through all numbers up to the maximum was less optimal than necessary. \n",
    "# Additionally, their function only checked up to n-1, which could miss the highest number in the range. \n",
    "# Furthermore, returning [-1] in a list when no numbers are missing deviates from the expected output format.\n",
    "\n",
    "# To enhance my partner's code, I suggested adjusting the iteration range to n+1 and ensuring the return type consistently aligned with the problem requirements.\n",
    "# By incorporating these refinements, we improved the solution’s efficiency and accuracy. \n",
    "# Overall, the experience was very interesting and educational, highlighting the importance of clear problem understanding and the value of code review in optimizing solutions."
   ]
  },
  {
   "cell_type": "markdown",
   "metadata": {},
   "source": [
    "\n",
    "## Evaluation Criteria\n",
    "\n",
    "We are looking for the similar points as Assignment 1\n",
    "\n",
    "-   Problem is accurately stated\n",
    "\n",
    "-   New example is correct and easily understandable\n",
    "\n",
    "-   Correctness, time, and space complexity of the coding solution\n",
    "\n",
    "-   Clarity in explaining why the solution works, its time and space complexity\n",
    "\n",
    "-   Quality of critique of your partner's assignment, if necessary\n"
   ]
  },
  {
   "cell_type": "markdown",
   "metadata": {},
   "source": [
    "## Submission Information\n",
    "\n",
    "🚨 **Please review our [Assignment Submission Guide](https://github.com/UofT-DSI/onboarding/blob/main/onboarding_documents/submissions.md)** 🚨 for detailed instructions on how to format, branch, and submit your work. Following these guidelines is crucial for your submissions to be evaluated correctly.\n",
    "\n",
    "### Submission Parameters:\n",
    "* Submission Due Date: `HH:MM AM/PM - DD/MM/YYYY`\n",
    "* The branch name for your repo should be: `assignment-2`\n",
    "* What to submit for this assignment:\n",
    "    * This Jupyter Notebook (assignment_2.ipynb) should be populated and should be the only change in your pull request.\n",
    "* What the pull request link should look like for this assignment: `https://github.com/<your_github_username>/algorithms_and_data_structures/pull/<pr_id>`\n",
    "    * Open a private window in your browser. Copy and paste the link to your pull request into the address bar. Make sure you can see your pull request properly. This helps the technical facilitator and learning support staff review your submission easily.\n",
    "\n",
    "Checklist:\n",
    "- [ ] Created a branch with the correct naming convention.\n",
    "- [ ] Ensured that the repository is public.\n",
    "- [ ] Reviewed the PR description guidelines and adhered to them.\n",
    "- [ ] Verify that the link is accessible in a private browser window.\n",
    "\n",
    "If you encounter any difficulties or have questions, please don't hesitate to reach out to our team via our Slack at `#cohort-3-help`. Our Technical Facilitators and Learning Support staff are here to help you navigate any challenges.\n"
   ]
  }
 ],
 "metadata": {
  "kernelspec": {
   "display_name": "dsi_participant",
   "language": "python",
   "name": "python3"
  },
  "language_info": {
   "codemirror_mode": {
    "name": "ipython",
    "version": 3
   },
   "file_extension": ".py",
   "mimetype": "text/x-python",
   "name": "python",
   "nbconvert_exporter": "python",
   "pygments_lexer": "ipython3",
   "version": "3.9.15"
  }
 },
 "nbformat": 4,
 "nbformat_minor": 2
}
